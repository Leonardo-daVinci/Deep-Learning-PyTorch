{
  "nbformat": 4,
  "nbformat_minor": 0,
  "metadata": {
    "colab": {
      "name": "2.Error_Functions_&_CrossEntropy.ipynb",
      "provenance": [],
      "authorship_tag": "ABX9TyPKYovg6s8GrcW70KuN8NvB",
      "include_colab_link": true
    },
    "kernelspec": {
      "name": "python3",
      "display_name": "Python 3"
    }
  },
  "cells": [
    {
      "cell_type": "markdown",
      "metadata": {
        "id": "view-in-github",
        "colab_type": "text"
      },
      "source": [
        "<a href=\"https://colab.research.google.com/github/Leonardo-daVinci/Deep-Learning-PyTorch/blob/Error_Functions%26Cross_Entropy/2_Error_Functions_%26_CrossEntropy.ipynb\" target=\"_parent\"><img src=\"https://colab.research.google.com/assets/colab-badge.svg\" alt=\"Open In Colab\"/></a>"
      ]
    },
    {
      "cell_type": "markdown",
      "metadata": {
        "id": "xDYo0qohHG72",
        "colab_type": "text"
      },
      "source": [
        "#Error Function\n",
        "\n",
        "It tells us how badly we are performing at the moment and how far we are from the solution.  \n",
        "In a cartezian plane, it may be the euclidean distance or some other distance between our current position and the target position.  \n",
        "Goal of the error function is to help us take steps towards our target position.  \n",
        "We take look around our current position and then find out the direction in which we are closest to the target position and take that step.  \n",
        "The process is repeated till we reach the target position.  \n",
        "The technique described above is called as **Gradient Descent**.\n",
        "  \n",
        "**Conditions to apply Gradient Descent :**\n",
        "\n",
        "1.   It should be continuous.\n",
        "2.   It should be differentiable.\n",
        "\n",
        "\n"
      ]
    }
  ]
}