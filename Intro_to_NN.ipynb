{
  "nbformat": 4,
  "nbformat_minor": 0,
  "metadata": {
    "colab": {
      "name": "Intro_to_NN.ipynb",
      "provenance": [],
      "collapsed_sections": [],
      "authorship_tag": "ABX9TyNLrcdVdmY/CMJ80to7scsf",
      "include_colab_link": true
    },
    "kernelspec": {
      "name": "python3",
      "display_name": "Python 3"
    }
  },
  "cells": [
    {
      "cell_type": "markdown",
      "metadata": {
        "id": "view-in-github",
        "colab_type": "text"
      },
      "source": [
        "<a href=\"https://colab.research.google.com/github/Leonardo-daVinci/Deep-Learning-PyTorch/blob/Intro-to-Neural-Networks/Intro_to_NN.ipynb\" target=\"_parent\"><img src=\"https://colab.research.google.com/assets/colab-badge.svg\" alt=\"Open In Colab\"/></a>"
      ]
    },
    {
      "cell_type": "markdown",
      "metadata": {
        "id": "lENpKSOzLjMC",
        "colab_type": "text"
      },
      "source": [
        "# Introduction\n",
        "\n",
        "1.   Neural Networks(NN) are at the heart of Deep Learning which mimic our brain.\n",
        "2.   These NNs comprise of various nodes and edges which take in input data and generate some output just like neurons firing. \n",
        "3.   The basic job of NN is to seperate given data points into different classes.\n",
        "\n",
        "##Classification Problem\n",
        "\n",
        "Let us suppose we have the problem of classifying student into accepted and not accepted by some university, we consider the following points.\n",
        "\n",
        "1.   The features such as marks obtained in tests and grades of the student.\n",
        "2.   Based of these features, identifying the line that seperates these two classes.\n",
        "\n",
        "In this case we have 2 features x1 (test score) and x2 (grade), so we can form a line  \n",
        "> w1x1 + w2x2 + b = 0\n",
        "\n",
        "if we have more features say n features then the seperation would be (n-1) dimentional i.e. 3 features would result in a plane that divides the data points into different classes. Thus for n features, the equation of (n-1) dimentional seperator would be  \n",
        "> w1x1 + w2x2 + .. + wnxn + b = 0\n",
        "\n",
        "The above equation can be converted into vector form as  \n",
        "> Wx + b = 0\n",
        "  \n",
        "where **W is (1xn)** vector, **x is (nx1)** vector and **b is (1x1)** vector  "
      ]
    },
    {
      "cell_type": "markdown",
      "metadata": {
        "id": "xnV8AAbzQXHw",
        "colab_type": "text"
      },
      "source": [
        "## Perceptron\n",
        "It is the building block of NN.  \n",
        "It takes in inputs corresponding to each feature and based on the funcion of our seperaor and outputs the result (y') in form of 0 or 1\n",
        "\n",
        "> y' = 0 if Wx + b < 0  \n",
        "> y' = 1 if Wx + b >= 0\n",
        "\n",
        "Thus we can define a perceptron as a combination of 2 components : \n",
        "\n",
        "1.   Linear Function that calculates value of Wx + b\n",
        "2.   Step Function which outputs 0 or 1"
      ]
    },
    {
      "cell_type": "code",
      "metadata": {
        "id": "p0-0bMvv8PW-",
        "colab_type": "code",
        "colab": {}
      },
      "source": [
        ""
      ],
      "execution_count": 0,
      "outputs": []
    }
  ]
}